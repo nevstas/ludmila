{
  "nbformat": 4,
  "nbformat_minor": 0,
  "metadata": {
    "colab": {
      "provenance": [],
      "collapsed_sections": []
    },
    "kernelspec": {
      "name": "python3",
      "display_name": "Python 3"
    },
    "language_info": {
      "name": "python"
    },
    "accelerator": "GPU"
  },
  "cells": [
    {
      "cell_type": "markdown",
      "source": [
        "# Установка"
      ],
      "metadata": {
        "id": "9FoY3v4uShpD"
      }
    },
    {
      "cell_type": "markdown",
      "source": [
        "Для установки - запустите все команды из раздела \"Установка\""
      ],
      "metadata": {
        "id": "UFYusIl1SUh8"
      }
    },
    {
      "cell_type": "code",
      "source": [
        "from google.colab import drive\n",
        "drive.mount('/content/drive')\n",
        "%cd /content/drive/My\\ Drive/\n",
        "!mkdir ludmila\n",
        "%cd ludmila/"
      ],
      "metadata": {
        "colab": {
          "base_uri": "https://localhost:8080/"
        },
        "id": "FrZP9EeuSwuQ",
        "outputId": "c8e14951-d826-4000-c4ee-705150bcb516"
      },
      "execution_count": null,
      "outputs": [
        {
          "output_type": "stream",
          "name": "stdout",
          "text": [
            "Mounted at /content/drive\n",
            "/content/drive/My Drive\n",
            "/content/drive/My Drive/ludmila\n"
          ]
        }
      ]
    },
    {
      "cell_type": "code",
      "source": [
        "%cd /content/drive/My\\ Drive/ludmila\n",
        "!git clone https://github.com/nevstas/ludmila.git\n",
        "%cd /content/drive/My\\ Drive/ludmila/ludmila"
      ],
      "metadata": {
        "colab": {
          "base_uri": "https://localhost:8080/"
        },
        "id": "lWm1hcCiS3WY",
        "outputId": "9831ff1d-1e3e-48ca-f00f-3cb5e93965da"
      },
      "execution_count": null,
      "outputs": [
        {
          "output_type": "stream",
          "name": "stdout",
          "text": [
            "/content/drive/My Drive/ludmila\n",
            "Cloning into 'ludmila'...\n",
            "remote: Enumerating objects: 178, done.\u001b[K\n",
            "remote: Counting objects: 100% (178/178), done.\u001b[K\n",
            "remote: Compressing objects: 100% (87/87), done.\u001b[K\n",
            "remote: Total 178 (delta 87), reused 176 (delta 85), pack-reused 0\u001b[K\n",
            "Receiving objects: 100% (178/178), 336.98 KiB | 2.37 MiB/s, done.\n",
            "Resolving deltas: 100% (87/87), done.\n",
            "/content/drive/My Drive/ludmila/ludmila\n"
          ]
        }
      ]
    },
    {
      "cell_type": "code",
      "source": [
        "import os\n",
        "os.environ['NUMBAPRO_LIBDEVICE'] = \"/usr/local/cuda-10.0/nvvm/libdevice\"\n",
        "os.environ['NUMBAPRO_NVVM'] = \"/usr/local/cuda-10.0/nvvm/lib64/libnvvm.so\""
      ],
      "metadata": {
        "id": "0Zgy6ZebXclj"
      },
      "execution_count": null,
      "outputs": []
    },
    {
      "cell_type": "markdown",
      "source": [
        "# Выполнять после старта/рестарта блокнота"
      ],
      "metadata": {
        "id": "5P3EUC2kTJTQ"
      }
    },
    {
      "cell_type": "code",
      "source": [
        "from google.colab import drive\n",
        "drive.mount('/content/drive')\n",
        "%cd /content/drive/My\\ Drive/ludmila/ludmila"
      ],
      "metadata": {
        "id": "lM97XPuDTQsj",
        "colab": {
          "base_uri": "https://localhost:8080/"
        },
        "outputId": "00ae3df0-5605-4f28-d28f-458b21f4607b"
      },
      "execution_count": 4,
      "outputs": [
        {
          "output_type": "stream",
          "name": "stdout",
          "text": [
            "Mounted at /content/drive\n",
            "/content/drive/My Drive/ludmila/ludmila\n"
          ]
        }
      ]
    },
    {
      "cell_type": "markdown",
      "source": [
        "# Запуск"
      ],
      "metadata": {
        "id": "r-rtVPFgTU5O"
      }
    },
    {
      "cell_type": "markdown",
      "source": [
        "# Шлак, разное"
      ],
      "metadata": {
        "id": "JmeI-olIBRo6"
      }
    },
    {
      "cell_type": "markdown",
      "source": [
        "CPU"
      ],
      "metadata": {
        "id": "Vy2pWKK5Wity"
      }
    },
    {
      "cell_type": "code",
      "source": [
        "import numpy as np\n",
        "from timeit import default_timer as timer\n",
        "\n",
        "def pow(a, b, c):\n",
        "    for i in range(a.size):\n",
        "         c[i] = a[i] ** b[i]\n",
        "\n",
        "def main():\n",
        "    vec_size = 100000000\n",
        "\n",
        "    a = b = np.array(np.random.sample(vec_size), dtype=np.float32)\n",
        "    c = np.zeros(vec_size, dtype=np.float32)\n",
        "\n",
        "    start = timer()\n",
        "    pow(a, b, c)\n",
        "    duration = timer() - start\n",
        "\n",
        "    print(duration)\n",
        "\n",
        "if __name__ == '__main__':\n",
        "    main()"
      ],
      "metadata": {
        "colab": {
          "base_uri": "https://localhost:8080/"
        },
        "id": "ZUqQhXP2TYuA",
        "outputId": "3d665d4f-490d-49ca-c199-9013ecdf1632"
      },
      "execution_count": null,
      "outputs": [
        {
          "output_type": "stream",
          "name": "stdout",
          "text": [
            "29.269528458000423\n"
          ]
        }
      ]
    },
    {
      "cell_type": "markdown",
      "source": [
        "GPU"
      ],
      "metadata": {
        "id": "9OYSyq65Wk4m"
      }
    },
    {
      "cell_type": "code",
      "source": [
        "import numpy as np\n",
        "from timeit import default_timer as timer\n",
        "from numba import vectorize\n",
        "\n",
        "@vectorize(['float32(float32, float32)'], target='cuda')\n",
        "def pow(a, b):\n",
        "  return a ** b\n",
        "\n",
        "def main():\n",
        "    vec_size = 100000000\n",
        "\n",
        "    a = b = np.array(np.random.sample(vec_size), dtype=np.float32)\n",
        "    c = np.zeros(vec_size, dtype=np.float32)\n",
        "\n",
        "    start = timer()\n",
        "    c = pow(a, b)\n",
        "    duration = timer() - start\n",
        "\n",
        "    print(duration)\n",
        "\n",
        "if __name__ == '__main__':\n",
        "    main()"
      ],
      "metadata": {
        "colab": {
          "base_uri": "https://localhost:8080/"
        },
        "id": "RwL-dJPrWh0U",
        "outputId": "fe0318fc-5c1f-48ed-e424-546751ea99c4"
      },
      "execution_count": 87,
      "outputs": [
        {
          "output_type": "stream",
          "name": "stdout",
          "text": [
            "0.38010314000075596\n"
          ]
        }
      ]
    },
    {
      "cell_type": "markdown",
      "source": [
        "Создание массива. Разница в 15 раз"
      ],
      "metadata": {
        "id": "Ak7TiqaZqf03"
      }
    },
    {
      "cell_type": "code",
      "source": [
        "import numpy as np\n",
        "from timeit import default_timer as timer\n",
        "from numba import vectorize\n",
        "\n",
        "vec_size = 100000000\n",
        "start = timer()\n",
        "a = np.array(np.random.sample(vec_size), dtype=np.float32)\n",
        "duration = timer() - start\n",
        "duration"
      ],
      "metadata": {
        "colab": {
          "base_uri": "https://localhost:8080/"
        },
        "id": "hxrB_xUxqYrp",
        "outputId": "cda7d7ee-a643-452d-f3ac-600cc4c7fb99"
      },
      "execution_count": 18,
      "outputs": [
        {
          "output_type": "execute_result",
          "data": {
            "text/plain": [
              "0.8302630470000167"
            ]
          },
          "metadata": {},
          "execution_count": 18
        }
      ]
    },
    {
      "cell_type": "code",
      "source": [
        "import numpy as np\n",
        "from timeit import default_timer as timer\n",
        "from numba import vectorize\n",
        "\n",
        "vec_size = 100000000\n",
        "start = timer()\n",
        "arr = []\n",
        "for i in range(vec_size):\n",
        "  arr.append(i)\n",
        "a = np.array(arr, dtype=np.float32)\n",
        "duration = timer() - start\n",
        "duration\n"
      ],
      "metadata": {
        "colab": {
          "base_uri": "https://localhost:8080/"
        },
        "id": "ldJvMMz7q4Px",
        "outputId": "7c7a732f-0244-466e-f141-95337632bf0e"
      },
      "execution_count": 19,
      "outputs": [
        {
          "output_type": "execute_result",
          "data": {
            "text/plain": [
              "15.307451185000048"
            ]
          },
          "metadata": {},
          "execution_count": 19
        }
      ]
    },
    {
      "cell_type": "code",
      "source": [
        "import numpy as np\n",
        "a = np.array([1, 2, 3, 4, 5])\n",
        "b = np.array([0.1, 0.2, 0.3, 0.4, 0.5])\n",
        "a = a + b\n"
      ],
      "metadata": {
        "id": "GrzY039mF-9H"
      },
      "execution_count": null,
      "outputs": []
    },
    {
      "cell_type": "code",
      "source": [
        "import numpy as np\n",
        "from timeit import default_timer as timer\n",
        "from numba import vectorize\n",
        "\n",
        "arr_items = ['a','b','c','d','e','f','g','h','i','j','k','l','m','n','o','p','q','r','s','t','u','v','w','x','y','z']\n",
        "#result = np.array(np.meshgrid(arr_items, arr_items)).T.reshape(-1, 2)\n",
        "#result = np.array(np.meshgrid(arr_items, arr_items, arr_items)).T.reshape(-1, 3)\n",
        "#result = np.array(np.meshgrid(arr_items, arr_items, arr_items, arr_items)).T.reshape(-1, 4)\n",
        "#result = np.array(np.meshgrid(arr_items, arr_items, arr_items, arr_items, arr_items)).T.reshape(-1, 5)\n",
        "#result = np.array(np.meshgrid(arr_items, arr_items, arr_items, arr_items, arr_items, arr_items)).T.reshape(-1, 6)\n",
        "#arr_len = result.shape[0]\n",
        "#arr_len\n",
        "\n",
        "def concatenate(str1, str2):\n",
        "    return np.core.defchararray.add(str1, str2)\n",
        "\n",
        "def concatenate2(str1, str2):\n",
        "    return np.core.defchararray.add(str1, str2)\n",
        "\n",
        "result = np.array(np.meshgrid(arr_items, arr_items, arr_items, arr_items)).T.reshape(-1, 4)\n",
        "\n",
        "# start = timer()\n",
        "# arr_concatenate = concatenate(result, result)\n",
        "# duration = timer() - start\n",
        "# duration\n",
        "\n",
        "start = timer()\n",
        "g = np.vectorize(concatenate2, otypes=[np.ndarray])\n",
        "arr_concatenate = g(result, result)\n",
        "duration = timer() - start\n",
        "duration"
      ],
      "metadata": {
        "colab": {
          "base_uri": "https://localhost:8080/"
        },
        "id": "FFzhDTq1l0ap",
        "outputId": "aaaca3ff-c195-4091-a82a-54930a1e9f76"
      },
      "execution_count": null,
      "outputs": [
        {
          "output_type": "execute_result",
          "data": {
            "text/plain": [
              "9.095277404999706"
            ]
          },
          "metadata": {},
          "execution_count": 19
        }
      ]
    },
    {
      "cell_type": "code",
      "source": [
        "import warnings\n",
        "import os\n",
        "import sys\n",
        "from threading import Lock\n",
        "import threading\n",
        "import time\n",
        "\n",
        "import numpy as np\n",
        "from timeit import default_timer as timer\n",
        "from numba import vectorize\n",
        "\n",
        "myLock = threading.Lock()\n",
        "\n",
        "#Путь к располажению выполняемого скрипта\n",
        "script_path = \"/content/drive/My Drive/ludmila/ludmila\"\n",
        "\n",
        "# 1 Линейное 5 символов\n",
        "# y = ax + b\n",
        "# v|x0;o|*;v|x1;o|+;v|x2\n",
        "\n",
        "# 2 Теорема пифагора 8 символов\n",
        "# a ** 2 + b ** 2 = c ** 2 \n",
        "# bl|(;v|x0;e|**2;o|+;v|x1;e|**2;br|);e|**0.5\n",
        "\n",
        "# 3 ряд простых чисел\n",
        "\n",
        "\n",
        "dataset_id = 1\n",
        "\n",
        "#Имя файла с 'x' и 'y', например если dataset_id = 1, то dataset_filename будет 'data1.txt'\n",
        "dataset_filename = \"data\" + str(dataset_id) + \".txt\"\n",
        "\n",
        "#Текущее уравнение с которого начинаем, далее оно будет инкрементится\n",
        "equation = [0]\n",
        "\n",
        "#элементы, из которых составляются уравнения путем конкатенции друг с другом\n",
        "elements = [\n",
        "\t#числа: 0-10\n",
        "\t\"n|0\",\n",
        "\t\"n|1\",\n",
        "\t\"n|2\",\n",
        "\t\"n|3\",\n",
        "\t\"n|4\",\n",
        "\t\"n|5\",\n",
        "\t\"n|6\",\n",
        "\t\"n|7\",\n",
        "\t\"n|8\",\n",
        "\t\"n|9\",\n",
        "\t\"n|10\",\n",
        "\n",
        "\t#операции: +, -, *, /\n",
        "\t\"o|+\", \n",
        "\t\"o|*\", \n",
        "\t\"o|/\",\n",
        "\t\"om|-\", \n",
        "\n",
        "\t#скобки ( и )\n",
        "\t\"bl|(\",\n",
        "\t\"br|)\",\n",
        "\n",
        "\t#степень: 2 степень, 3 степень, корень квадратный, корень кубический\n",
        "\t\"e|**2\",\n",
        "\t\"e|**3\",\n",
        "\t\"e|**0.5\",\n",
        "\t\"e|**(1/3)\",\n",
        "]\n",
        "\n",
        "elements_len = len(elements)\n",
        "\n",
        "#Ключи - типы элементов\n",
        "#allow_left - правила при конкатенции, содержит типы элементов, которые могут находится слева\n",
        "#При конкатенции элемента типа number смотрится на то кто стоит слева, разрешены o(operator), om(operator minus), s(start) и bl(bracket left)\n",
        "#Если слева символ иного типа, то конкатенция не происходит\n",
        "#Это сделано для уменьшения кол-ва вариантов при комбинаторике, уменьшения кол-ва ненужных итераций\n",
        "\n",
        "types_of_elements = {\n",
        "\t#start начало строки\n",
        "\t's': {\n",
        "\t\t'allow_left': [],\n",
        "\t},\n",
        "\t#number\n",
        "\t'n': {\n",
        "\t\t'allow_left': ['s', 'o', 'om', 'bl'],\n",
        "\t},\n",
        "\t#operator\n",
        "\t'o': {\n",
        "\t\t'allow_left': ['n', 'br', 'v', 'e'],\n",
        "\t},\n",
        "\t#operator minus\n",
        "\t'om': {\n",
        "\t\t'allow_left': ['s', 'n', 'bl', 'br', 'v', 'e'],\n",
        "\t},\n",
        "\t#bracket left\n",
        "\t'bl': {\n",
        "\t\t'allow_left': ['s', 'o', 'om', 'e'],\n",
        "\t},\n",
        "\t#bracket right\n",
        "\t'br': {\n",
        "\t\t'allow_left': ['n', 'v', 'e'],\n",
        "\t},\n",
        "\t#variable\n",
        "\t'v': {\n",
        "\t\t'allow_left': ['s', 'o', 'om', 'bl'],\n",
        "\t},\n",
        "\t#exponentiation\n",
        "\t'e': {\n",
        "\t\t'allow_left': ['n', 'br', 'v'],\n",
        "\t},\n",
        "}\n",
        "\n",
        "\n",
        "#Форматирует уравнения\n",
        "#Пример входящих данных: [1, 2, 3]\n",
        "#Исходящие: 7 + 5, где 5 это x0\n",
        "def format(equation, x):\n",
        "\tequation = ''.join([elements[i] for i in equation])\n",
        "\tfor variable_count, x_item in enumerate(x):\n",
        "\t\tequation = equation.replace(\"v|x\" + str(variable_count), x_item)\n",
        "\tequation = equation.replace(\"n|\", \"\")\n",
        "\tequation = equation.replace(\"o|\", \"\")\n",
        "\tequation = equation.replace(\"om|\", \"\")\n",
        "\tequation = equation.replace(\"bl|\", \"\")\n",
        "\tequation = equation.replace(\"br|\", \"\")\n",
        "\tequation = equation.replace(\"e|\", \"\")\n",
        "\n",
        "\treturn equation\n",
        "\n",
        "#Выполняет уравнение и српанивает решение с 'y', если решение решено верно, то возвращает True\n",
        "#Пример входящих данных: \"51 * 62 + 73\" и \"3235\"\n",
        "#Исходящие True\n",
        "def calc(equation, y):\n",
        "\ttry:\n",
        "\t\twith warnings.catch_warnings():\n",
        "\t\t\twarnings.simplefilter(\"ignore\") #Отключаем Warning на сулчай если в equation будет не вылидным, например \"4(3)\"\n",
        "\t\t\tresult_of_equation = eval(equation)\n",
        "\t\tif float(result_of_equation) == float(y):\n",
        "\t\t\treturn True\n",
        "\t\telse:\n",
        "\t\t\treturn False\n",
        "\texcept:\n",
        "\t\treturn False\n",
        "\n",
        "#Выполняет все (например 100шт) уравнения (например из файла data1.txt) и если все уравнения решены верно, то возвращает True\n",
        "#То, что функция calc() решила уравнение верно, не означает что это искомое уравнение.\n",
        "#Если calc() вернула True, то запускаем функцию calc_all(), где проверяем уравнение на большом количестве данных\n",
        "#Пример входящих данных: массив \"51 * 62 + 73\" и \"3235\"\n",
        "#Исходящие True\n",
        "def calc_all(equation, dataset):\n",
        "\tfor dataset_item in dataset:\n",
        "\t\tequation_format = format(equation, dataset_item['x'])\n",
        "\t\tif not calc(equation_format, dataset_item['y']):\n",
        "\t\t\treturn False\n",
        "\treturn True\n",
        "\t\t\t\n",
        "\t\t\n",
        "#Проверяет число по allow соседней, стоящих друг с другом\n",
        "def check_allow_concat(equation):\n",
        "\tfor key, e in enumerate(equation):\n",
        "\t\tif key == 0:\n",
        "\t\t\tleft_element = ''\n",
        "\t\t\tleft_element_type = get_type_of_element(left_element)\n",
        "\t\telse:\n",
        "\t\t\tleft_element = equation[key - 1]\n",
        "\t\t\tleft_element_type = get_type_of_element(elements[left_element])\n",
        "\t\tright_element = e\n",
        "\t\tright_element_type = get_type_of_element(elements[right_element])\n",
        "\n",
        "\t\tif not left_element_type in types_of_elements[right_element_type]['allow_left']:\n",
        "\t\t\treturn {'result': False, 'key': key}\n",
        "\treturn {'result': True, 'key': 0}\n",
        "\n",
        "#Получает тип элемента\n",
        "#Входящие параметры n|8\n",
        "#Результат n\n",
        "#Не используем регулярки, ибо накладно\n",
        "def get_type_of_element(element):\n",
        "\tif not element:\n",
        "\t\treturn 's'\n",
        "\tindex_of_type = element.rfind('|')\n",
        "\treturn element[0:index_of_type]\n",
        "\n",
        "#Пишет в лог log.txt (например найденные уравнения)\n",
        "def writeln(str):\n",
        "\tmyLock.acquire()\t\t\n",
        "\twith open(script_path + \"/log.txt\", 'a') as the_file:\n",
        "\t\tthe_file.write(str + \"\\n\")\n",
        "\tmyLock.release()\n",
        "\n",
        "#Входящие данные [12, 9, 5]\n",
        "#Исходящие данные [12, 9, 6]\n",
        "def equation_number_increment(equation):\n",
        "\tcurrent_index = len(equation) - 1\n",
        "\twhile (True):\n",
        "\t\tequation = equation_number_increment_by_index(equation, current_index)\n",
        "\t\tcheck_equation = check_allow_concat(equation)\n",
        "\n",
        "\t\tif check_equation['result']:\n",
        "\t\t\treturn equation\n",
        "\t\telse:\n",
        "\t\t\tfor key, e in enumerate(equation):\n",
        "\t\t\t\tif key > check_equation['key']:\n",
        "\t\t\t\t\tequation[key] = 0\n",
        "\t\t\tcurrent_index = check_equation['key']\n",
        "\n",
        "def equation_number_increment_by_index(equation, current_index):\n",
        "\twhile (True):\n",
        "\t\tcurrent_number = equation[current_index]\n",
        "\t\tif current_number < (elements_len - 1):\n",
        "\t\t\tequation[current_index] = current_number + 1\n",
        "\t\t\treturn equation\n",
        "\t\telse:\n",
        "\t\t\tif current_index > 0:\n",
        "\t\t\t\tequation[current_index] = 0\n",
        "\t\t\t\tcurrent_index = current_index - 1\n",
        "\t\t\telse:\n",
        "\t\t\t\tfor key, number in enumerate(equation):\n",
        "\t\t\t\t\tequation[key] = 0\n",
        "\t\t\t\tprint('Проверены уравнения длиной ' + str(len(equation)))\n",
        "\t\t\t\tequation = [0] + equation\n",
        "\t\t\t\treturn equation\n",
        "\n",
        "#Форматирование уравнения в читабельный вид\n",
        "#Входящие данные [1, 2, 3]\n",
        "#исходящие данные v|x0;o|*;v|x1;o|+;v|x2\n",
        "def format_equation_to_human_view(equation):\n",
        "\tequation_human = \"\"\n",
        "\tfor index_of_element in equation:\n",
        "\t\tif equation_human == \"\":\n",
        "\t\t\tequation_human = elements[index_of_element]\n",
        "\t\telse:\n",
        "\t\t\tequation_human = equation_human + ';' + elements[index_of_element]\n",
        "\treturn equation_human\n",
        "\n",
        "\n",
        "def task(dataset):\n",
        "\tglobal elements\n",
        "\tglobal equation\n",
        "\tglobal elements_len\n",
        "\tfirst_element_of_dataset = dataset[0] #Берем из большого набора данных (например 100) первый элемент\n",
        "\tvariable_elements = []\n",
        "\tfor variable_count, f in enumerate(first_element_of_dataset['x']):\n",
        "\t\tvariable_elements.append(\"v|x\" + str(variable_count))\n",
        "\telements = elements + variable_elements #добавляем к элементам все 'x', их может быть разное количество\n",
        "\telements_len = len(elements)\n",
        "\n",
        "\ttime_total_start = time.time()\n",
        "\twhile (True):\n",
        "\n",
        "\t\t#buffer = np.arange(0, 100000, 1000).reshape(100, 1)\n",
        "\t\t#print(buffer)\n",
        "\t\tbreak\n",
        "\t\n",
        "\t\n",
        "\t\tequation_format = format(equation, first_element_of_dataset['x']) #форматируем уравнение\n",
        "\n",
        "\t\t#print(format_equation_to_human_view(equation))\n",
        "\t\t# writeln(format_equation_to_human_view(equation))\n",
        "\n",
        "\t\tif calc(equation_format, first_element_of_dataset['y']): #если уравнение выполнено на одном наборе данных x и y\n",
        "\t\t\t\n",
        "\t\t\tif calc_all(equation, dataset): #тогда выполняем проверку уравнения на большом наборе данных (например 100)\n",
        "\t\t\t\ttime_total = time.time() - time_total_start\n",
        "\t\t\t\tmessage = time.strftime(\"%d.%m.%Y %H:%M:%S\") + \" Решение data\" + str(dataset_id) + \": \" + format_equation_to_human_view(equation) + \" на \" + str(round(time_total, 2)) + \" сек\"\n",
        "\t\t\t\twriteln(message)\n",
        "\t\t\t\tprint(message)\n",
        "\t\t\t\t\n",
        "\t\tequation = equation_number_increment(equation)\n",
        "\n",
        "with open(script_path + \"/datasets/\" + dataset_filename) as f:\n",
        "\tdataset_plain = f.readlines() #считываем набор данных (например из файла data1.txt). Пример данных \"3235\t51\t62\t73\"\n",
        "\n",
        "dataset = [] #dataset содержит элементы вида {'y': 3235, 'x': [51, 62, 73]} Первый элемент значение (решение) уравнения y, второй элемент массив входящих данных x\n",
        "for dataset_plain_item in dataset_plain:\n",
        "\tdataset_plain_item = dataset_plain_item.strip()\n",
        "\tdataset_plain_item = dataset_plain_item.split(\"\\t\")\n",
        "\ty = dataset_plain_item[0]\n",
        "\tdataset_plain_item.pop(0) # Удаляем первый элемент массива (y), он нам не нужен\n",
        "\tx = dataset_plain_item\n",
        "\tdataset.append({\"y\": y, \"x\": x})\n",
        "\n",
        "task(dataset) #вызываем основноую функцию\n",
        "\n"
      ],
      "metadata": {
        "id": "SkDS-ab2CCpS"
      },
      "execution_count": null,
      "outputs": []
    },
    {
      "cell_type": "code",
      "source": [
        "import numpy as np\n",
        "from timeit import default_timer as timer\n",
        "from numba import vectorize\n",
        "import numba as nb\n",
        "\n",
        "elements_len = 21\n",
        "\n",
        "@vectorize\n",
        "def decimal_to_custom(n):\n",
        "  #x = (number % elements_len)\n",
        "  #h = 1\n",
        "  return \"asdasd\"\n",
        "\t# if (number - x != 0):\n",
        "\t# \treturn decimal_to_custom(number // elements_len) + ch\n",
        "\t# else:\n",
        "\t# \treturn ch\n",
        "\n",
        "buffer = np.array([\"asd\", \"asdadasd\", \"asdasdasdad\"])\n",
        "result = decimal_to_custom(buffer)\n",
        "\n",
        "\n",
        "#result = decimal_to_custom(buffer)\n",
        "#result\n"
      ],
      "metadata": {
        "colab": {
          "base_uri": "https://localhost:8080/",
          "height": 374
        },
        "id": "ajbC3E5IRA3W",
        "outputId": "dc757d51-f9e0-474b-d25f-2d135d22e872"
      },
      "execution_count": 10,
      "outputs": [
        {
          "output_type": "error",
          "ename": "NumbaNotImplementedError",
          "evalue": "ignored",
          "traceback": [
            "\u001b[0;31m---------------------------------------------------------------------------\u001b[0m",
            "\u001b[0;31mNumbaNotImplementedError\u001b[0m                  Traceback (most recent call last)",
            "\u001b[0;32m<ipython-input-10-18e5aebb6d19>\u001b[0m in \u001b[0;36m<module>\u001b[0;34m\u001b[0m\n\u001b[1;32m     17\u001b[0m \u001b[0;34m\u001b[0m\u001b[0m\n\u001b[1;32m     18\u001b[0m \u001b[0mbuffer\u001b[0m \u001b[0;34m=\u001b[0m \u001b[0mnp\u001b[0m\u001b[0;34m.\u001b[0m\u001b[0marray\u001b[0m\u001b[0;34m(\u001b[0m\u001b[0;34m[\u001b[0m\u001b[0;34m\"asd\"\u001b[0m\u001b[0;34m,\u001b[0m \u001b[0;34m\"asdadasd\"\u001b[0m\u001b[0;34m,\u001b[0m \u001b[0;34m\"asdasdasdad\"\u001b[0m\u001b[0;34m]\u001b[0m\u001b[0;34m)\u001b[0m\u001b[0;34m\u001b[0m\u001b[0;34m\u001b[0m\u001b[0m\n\u001b[0;32m---> 19\u001b[0;31m \u001b[0mresult\u001b[0m \u001b[0;34m=\u001b[0m \u001b[0mdecimal_to_custom\u001b[0m\u001b[0;34m(\u001b[0m\u001b[0mbuffer\u001b[0m\u001b[0;34m)\u001b[0m\u001b[0;34m\u001b[0m\u001b[0;34m\u001b[0m\u001b[0m\n\u001b[0m\u001b[1;32m     20\u001b[0m \u001b[0;34m\u001b[0m\u001b[0m\n\u001b[1;32m     21\u001b[0m \u001b[0;34m\u001b[0m\u001b[0m\n",
            "\u001b[0;32m/usr/local/lib/python3.7/dist-packages/numba/np/ufunc/dufunc.py\u001b[0m in \u001b[0;36m_compile_for_args\u001b[0;34m(self, *args, **kws)\u001b[0m\n\u001b[1;32m    200\u001b[0m                 \u001b[0margty\u001b[0m \u001b[0;34m=\u001b[0m \u001b[0mnumpy_support\u001b[0m\u001b[0;34m.\u001b[0m\u001b[0mmap_arrayscalar_type\u001b[0m\u001b[0;34m(\u001b[0m\u001b[0marg\u001b[0m\u001b[0;34m)\u001b[0m\u001b[0;34m\u001b[0m\u001b[0;34m\u001b[0m\u001b[0m\n\u001b[1;32m    201\u001b[0m             \u001b[0margtys\u001b[0m\u001b[0;34m.\u001b[0m\u001b[0mappend\u001b[0m\u001b[0;34m(\u001b[0m\u001b[0margty\u001b[0m\u001b[0;34m)\u001b[0m\u001b[0;34m\u001b[0m\u001b[0;34m\u001b[0m\u001b[0m\n\u001b[0;32m--> 202\u001b[0;31m         \u001b[0;32mreturn\u001b[0m \u001b[0mself\u001b[0m\u001b[0;34m.\u001b[0m\u001b[0m_compile_for_argtys\u001b[0m\u001b[0;34m(\u001b[0m\u001b[0mtuple\u001b[0m\u001b[0;34m(\u001b[0m\u001b[0margtys\u001b[0m\u001b[0;34m)\u001b[0m\u001b[0;34m)\u001b[0m\u001b[0;34m\u001b[0m\u001b[0;34m\u001b[0m\u001b[0m\n\u001b[0m\u001b[1;32m    203\u001b[0m \u001b[0;34m\u001b[0m\u001b[0m\n\u001b[1;32m    204\u001b[0m     \u001b[0;32mdef\u001b[0m \u001b[0m_compile_for_argtys\u001b[0m\u001b[0;34m(\u001b[0m\u001b[0mself\u001b[0m\u001b[0;34m,\u001b[0m \u001b[0margtys\u001b[0m\u001b[0;34m,\u001b[0m \u001b[0mreturn_type\u001b[0m\u001b[0;34m=\u001b[0m\u001b[0;32mNone\u001b[0m\u001b[0;34m)\u001b[0m\u001b[0;34m:\u001b[0m\u001b[0;34m\u001b[0m\u001b[0;34m\u001b[0m\u001b[0m\n",
            "\u001b[0;32m/usr/local/lib/python3.7/dist-packages/numba/np/ufunc/dufunc.py\u001b[0m in \u001b[0;36m_compile_for_argtys\u001b[0;34m(self, argtys, return_type)\u001b[0m\n\u001b[1;32m    222\u001b[0m             cres, argtys, return_type)\n\u001b[1;32m    223\u001b[0m         dtypenums, ptr, env = ufuncbuilder._build_element_wise_ufunc_wrapper(\n\u001b[0;32m--> 224\u001b[0;31m             cres, actual_sig)\n\u001b[0m\u001b[1;32m    225\u001b[0m         \u001b[0mself\u001b[0m\u001b[0;34m.\u001b[0m\u001b[0m_add_loop\u001b[0m\u001b[0;34m(\u001b[0m\u001b[0mint\u001b[0m\u001b[0;34m(\u001b[0m\u001b[0mptr\u001b[0m\u001b[0;34m)\u001b[0m\u001b[0;34m,\u001b[0m \u001b[0mdtypenums\u001b[0m\u001b[0;34m)\u001b[0m\u001b[0;34m\u001b[0m\u001b[0;34m\u001b[0m\u001b[0m\n\u001b[1;32m    226\u001b[0m         \u001b[0mself\u001b[0m\u001b[0;34m.\u001b[0m\u001b[0m_keepalive\u001b[0m\u001b[0;34m.\u001b[0m\u001b[0mappend\u001b[0m\u001b[0;34m(\u001b[0m\u001b[0;34m(\u001b[0m\u001b[0mptr\u001b[0m\u001b[0;34m,\u001b[0m \u001b[0mcres\u001b[0m\u001b[0;34m.\u001b[0m\u001b[0mlibrary\u001b[0m\u001b[0;34m,\u001b[0m \u001b[0menv\u001b[0m\u001b[0;34m)\u001b[0m\u001b[0;34m)\u001b[0m\u001b[0;34m\u001b[0m\u001b[0;34m\u001b[0m\u001b[0m\n",
            "\u001b[0;32m/usr/local/lib/python3.7/dist-packages/numba/np/ufunc/ufuncbuilder.py\u001b[0m in \u001b[0;36m_build_element_wise_ufunc_wrapper\u001b[0;34m(cres, signature)\u001b[0m\n\u001b[1;32m    206\u001b[0m     \u001b[0;31m# Get dtypes\u001b[0m\u001b[0;34m\u001b[0m\u001b[0;34m\u001b[0m\u001b[0;34m\u001b[0m\u001b[0m\n\u001b[1;32m    207\u001b[0m     \u001b[0mdtypenums\u001b[0m \u001b[0;34m=\u001b[0m \u001b[0;34m[\u001b[0m\u001b[0mas_dtype\u001b[0m\u001b[0;34m(\u001b[0m\u001b[0ma\u001b[0m\u001b[0;34m)\u001b[0m\u001b[0;34m.\u001b[0m\u001b[0mnum\u001b[0m \u001b[0;32mfor\u001b[0m \u001b[0ma\u001b[0m \u001b[0;32min\u001b[0m \u001b[0msignature\u001b[0m\u001b[0;34m.\u001b[0m\u001b[0margs\u001b[0m\u001b[0;34m]\u001b[0m\u001b[0;34m\u001b[0m\u001b[0;34m\u001b[0m\u001b[0m\n\u001b[0;32m--> 208\u001b[0;31m     \u001b[0mdtypenums\u001b[0m\u001b[0;34m.\u001b[0m\u001b[0mappend\u001b[0m\u001b[0;34m(\u001b[0m\u001b[0mas_dtype\u001b[0m\u001b[0;34m(\u001b[0m\u001b[0msignature\u001b[0m\u001b[0;34m.\u001b[0m\u001b[0mreturn_type\u001b[0m\u001b[0;34m)\u001b[0m\u001b[0;34m.\u001b[0m\u001b[0mnum\u001b[0m\u001b[0;34m)\u001b[0m\u001b[0;34m\u001b[0m\u001b[0;34m\u001b[0m\u001b[0m\n\u001b[0m\u001b[1;32m    209\u001b[0m     \u001b[0;32mreturn\u001b[0m \u001b[0mdtypenums\u001b[0m\u001b[0;34m,\u001b[0m \u001b[0mptr\u001b[0m\u001b[0;34m,\u001b[0m \u001b[0mcres\u001b[0m\u001b[0;34m.\u001b[0m\u001b[0menvironment\u001b[0m\u001b[0;34m\u001b[0m\u001b[0;34m\u001b[0m\u001b[0m\n\u001b[1;32m    210\u001b[0m \u001b[0;34m\u001b[0m\u001b[0m\n",
            "\u001b[0;32m/usr/local/lib/python3.7/dist-packages/numba/np/numpy_support.py\u001b[0m in \u001b[0;36mas_dtype\u001b[0;34m(nbtype)\u001b[0m\n\u001b[1;32m    157\u001b[0m \u001b[0;34m\u001b[0m\u001b[0m\n\u001b[1;32m    158\u001b[0m     \u001b[0mmsg\u001b[0m \u001b[0;34m=\u001b[0m \u001b[0;34mf\"{nbtype} cannot be represented as a NumPy dtype\"\u001b[0m\u001b[0;34m\u001b[0m\u001b[0;34m\u001b[0m\u001b[0m\n\u001b[0;32m--> 159\u001b[0;31m     \u001b[0;32mraise\u001b[0m \u001b[0merrors\u001b[0m\u001b[0;34m.\u001b[0m\u001b[0mNumbaNotImplementedError\u001b[0m\u001b[0;34m(\u001b[0m\u001b[0mmsg\u001b[0m\u001b[0;34m)\u001b[0m\u001b[0;34m\u001b[0m\u001b[0;34m\u001b[0m\u001b[0m\n\u001b[0m\u001b[1;32m    160\u001b[0m \u001b[0;34m\u001b[0m\u001b[0m\n\u001b[1;32m    161\u001b[0m \u001b[0;34m\u001b[0m\u001b[0m\n",
            "\u001b[0;31mNumbaNotImplementedError\u001b[0m: unicode_type cannot be represented as a NumPy dtype"
          ]
        }
      ]
    }
  ]
}